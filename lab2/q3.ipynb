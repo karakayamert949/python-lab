{
 "cells": [
  {
   "cell_type": "code",
   "execution_count": 26,
   "metadata": {},
   "outputs": [],
   "source": [
    "import numpy as np\n",
    "\n",
    "a,b=[int(x) for x in input(\"Enter two values: \").split()]\n",
    "A=a+(b-a)*np.random.rand(7,5)\n",
    "B=a+(b-a)*np.random.rand(7,7)\n",
    "C=a+(b-a)*np.random.rand(4,7)\n",
    "#print(B)\n",
    "S=1/2 *(B+ B.transpose())\n",
    "#print(S)\n",
    "A[:,1]=B[2,:]\n",
    "su=np.sum(B[0:-1:7])\n",
    "#print(su)\n",
    "ColVec=np.concatenate((A[1,1:4],B[0:5:2,2]))\n",
    "v1=C[1,:]\n",
    "v2=B[4,:]\n",
    "val=sum(v1*v2)\n",
    "norm1=np.sqrt(sum(v1**2))\n",
    "norm2=np.sqrt(sum(v2**2))\n",
    "degree=(180/np.pi)*np.arccos(val/(norm1*norm2))\n",
    "u1=v1/norm1\n",
    "P=np.delete(A,-1,1)\n",
    "D=B/(P@C)\n"
   ]
  }
 ],
 "metadata": {
  "kernelspec": {
   "display_name": "Python 3.10.0 64-bit",
   "language": "python",
   "name": "python3"
  },
  "language_info": {
   "codemirror_mode": {
    "name": "ipython",
    "version": 3
   },
   "file_extension": ".py",
   "mimetype": "text/x-python",
   "name": "python",
   "nbconvert_exporter": "python",
   "pygments_lexer": "ipython3",
   "version": "3.10.0"
  },
  "orig_nbformat": 4,
  "vscode": {
   "interpreter": {
    "hash": "19f8f9ebccd493d1979261b88c51ecd06bf2efdee26e5f5e5ddb3d1c8ea2e26f"
   }
  }
 },
 "nbformat": 4,
 "nbformat_minor": 2
}
