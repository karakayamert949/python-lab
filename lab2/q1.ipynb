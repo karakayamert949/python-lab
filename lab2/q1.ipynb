{
 "cells": [
  {
   "cell_type": "code",
   "execution_count": 1,
   "id": "300cdae1",
   "metadata": {},
   "outputs": [
    {
     "name": "stdout",
     "output_type": "stream",
     "text": [
      "[1.7310893  2.61339536 2.91269745]\n"
     ]
    }
   ],
   "source": [
    "import random as rd\n",
    "import numpy as np\n",
    "\n",
    "v = []\n",
    "n = int(input(\"What is the length of the vector? \"))\n",
    "for i in range(n):\n",
    "    v.append(3*rd.random())\n",
    "v = np.array(v)\n",
    "print(v)"
   ]
  },
  {
   "cell_type": "code",
   "execution_count": 2,
   "id": "fbeb7d30",
   "metadata": {},
   "outputs": [
    {
     "name": "stdout",
     "output_type": "stream",
     "text": [
      "[ 3.86736623  1.76587646 10.27136658]\n",
      "[ 0.95796668 -0.51633233 -0.91209424]\n"
     ]
    }
   ],
   "source": [
    "a = np.exp(v)*(1+np.sin(2*v))\n",
    "print(a)\n",
    "\n",
    "b = np.cos(v)**3+np.sin(v)**3\n",
    "print(b)"
   ]
  }
 ],
 "metadata": {
  "kernelspec": {
   "display_name": "Python 3.10.0 64-bit",
   "language": "python",
   "name": "python3"
  },
  "language_info": {
   "codemirror_mode": {
    "name": "ipython",
    "version": 3
   },
   "file_extension": ".py",
   "mimetype": "text/x-python",
   "name": "python",
   "nbconvert_exporter": "python",
   "pygments_lexer": "ipython3",
   "version": "3.10.0"
  },
  "vscode": {
   "interpreter": {
    "hash": "19f8f9ebccd493d1979261b88c51ecd06bf2efdee26e5f5e5ddb3d1c8ea2e26f"
   }
  }
 },
 "nbformat": 4,
 "nbformat_minor": 5
}
