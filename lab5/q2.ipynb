{
 "cells": [
  {
   "cell_type": "code",
   "execution_count": 5,
   "metadata": {},
   "outputs": [
    {
     "name": "stdout",
     "output_type": "stream",
     "text": [
      "[[ 9.]\n",
      " [15.]\n",
      " [25.]\n",
      " [40.]\n",
      " [90.]]\n"
     ]
    }
   ],
   "source": [
    "import numpy as np\n",
    "\n",
    "v=np.array([200, 500, 700, 1000, 1500])\n",
    "c=np.zeros(shape=(5))\n",
    "for i in range(len(v)):\n",
    "    if v[i]<=500:\n",
    "        c[i]=v[i]*0.02\n",
    "    elif 500<v[i]<=1000:\n",
    "        c[i]=10+(v[i]-500)*0.05\n",
    "    else:\n",
    "        c[i]=35+(v[i]-1000)*0.1\n",
    "print(c+5)\n",
    "\n"
   ]
  }
 ],
 "metadata": {
  "kernelspec": {
   "display_name": "Python 3.10.0 64-bit",
   "language": "python",
   "name": "python3"
  },
  "language_info": {
   "name": "python",
   "version": "3.10.0"
  },
  "orig_nbformat": 4,
  "vscode": {
   "interpreter": {
    "hash": "19f8f9ebccd493d1979261b88c51ecd06bf2efdee26e5f5e5ddb3d1c8ea2e26f"
   }
  }
 },
 "nbformat": 4,
 "nbformat_minor": 2
}
