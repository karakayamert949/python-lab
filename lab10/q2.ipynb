{
 "cells": [
  {
   "cell_type": "code",
   "execution_count": 7,
   "metadata": {},
   "outputs": [
    {
     "name": "stdout",
     "output_type": "stream",
     "text": [
      "-sin(x)*cos(cos(x))\n",
      "-sin(x)*cos(cos(x))\n",
      "not equal\n"
     ]
    }
   ],
   "source": [
    "import sympy as sym\n",
    "\n",
    "x=sym.Symbol(\"x\")\n",
    "f=sym.Symbol(\"f\")\n",
    "h=sym.Symbol(\"h\")\n",
    "\n",
    "f=sym.sin(sym.cos(x))\n",
    "df=sym.diff(f,x)\n",
    "print(df)\n",
    "fh=(sym.sin(sym.cos(x+h))-sym.sin(sym.cos(x)))/h\n",
    "print(sym.limit(fh,h,0))\n",
    "\n",
    "if df==fh:\n",
    "    print(\"they are equal\")\n",
    "else:\n",
    "    print(\"not equal\")"
   ]
  },
  {
   "cell_type": "code",
   "execution_count": 10,
   "metadata": {},
   "outputs": [
    {
     "name": "stdout",
     "output_type": "stream",
     "text": [
      "[5/16]\n"
     ]
    }
   ],
   "source": [
    "y=sym.Symbol(\"y\")\n",
    "x=sym.Symbol(\"x\")\n",
    "k=sym.Symbol(\"k\")\n",
    "\n",
    "y=-k*x**2 +12*k*x\n",
    "t=sym.integrate(y,(x,0,12))\n",
    "k=sym.solve(t-90,k)\n",
    "print(k)"
   ]
  }
 ],
 "metadata": {
  "kernelspec": {
   "display_name": "Python 3.10.6 64-bit",
   "language": "python",
   "name": "python3"
  },
  "language_info": {
   "codemirror_mode": {
    "name": "ipython",
    "version": 3
   },
   "file_extension": ".py",
   "mimetype": "text/x-python",
   "name": "python",
   "nbconvert_exporter": "python",
   "pygments_lexer": "ipython3",
   "version": "3.10.6"
  },
  "orig_nbformat": 4,
  "vscode": {
   "interpreter": {
    "hash": "19f8f9ebccd493d1979261b88c51ecd06bf2efdee26e5f5e5ddb3d1c8ea2e26f"
   }
  }
 },
 "nbformat": 4,
 "nbformat_minor": 2
}
