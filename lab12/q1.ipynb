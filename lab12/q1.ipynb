{
 "cells": [
  {
   "cell_type": "code",
   "execution_count": 1,
   "metadata": {},
   "outputs": [
    {
     "name": "stdout",
     "output_type": "stream",
     "text": [
      "[3.38256813]\n"
     ]
    },
    {
     "data": {
      "text/plain": [
       "[<matplotlib.lines.Line2D at 0x29e5d99f940>,\n",
       " <matplotlib.lines.Line2D at 0x29e5d99fa60>]"
      ]
     },
     "execution_count": 1,
     "metadata": {},
     "output_type": "execute_result"
    },
    {
     "data": {
      "image/png": "[encoded data removed]",
      "text/plain": [
       "<Figure size 432x288 with 1 Axes>"
      ]
     },
     "metadata": {
      "needs_background": "light"
     },
     "output_type": "display_data"
    }
   ],
   "source": [
    "import numpy as np\n",
    "import matplotlib.pyplot as plt\n",
    "\n",
    "x=np.array([1,2,4,5,6,8])\n",
    "y=np.array([1,3,6,8,14,16])\n",
    "\n",
    "#y=a*b^x\n",
    "#lny=lna+xlnb\n",
    "#n=lna m=lnb y2=lny\n",
    "#y2=mx+n\n",
    "\n",
    "n=len(x)\n",
    "x1=sum(x)\n",
    "x2=sum(x**2)\n",
    "y1=sum(np.log(y))\n",
    "y2=sum(x*np.log(y))\n",
    "\n",
    "A=np.array([[n,x1],[x1,x2]])\n",
    "B=np.array([[y1],[y2]])\n",
    "\n",
    "xm=np.matmul(np.linalg.inv(A),B)\n",
    "a=np.exp(xm[0])\n",
    "b=np.exp(xm[1])\n",
    "\n",
    "xp=np.linspace(0,8.4,100)\n",
    "yp=a*b**xp\n",
    "\n",
    "e=a*b**3\n",
    "print(e)\n",
    "plt.plot(x,y,'o',xp,yp)"
   ]
  }
 ],
 "metadata": {
  "kernelspec": {
   "display_name": "Python 3.10.6 64-bit",
   "language": "python",
   "name": "python3"
  },
  "language_info": {
   "codemirror_mode": {
    "name": "ipython",
    "version": 3
   },
   "file_extension": ".py",
   "mimetype": "text/x-python",
   "name": "python",
   "nbconvert_exporter": "python",
   "pygments_lexer": "ipython3",
   "version": "3.10.6"
  },
  "orig_nbformat": 4,
  "vscode": {
   "interpreter": {
    "hash": "19f8f9ebccd493d1979261b88c51ecd06bf2efdee26e5f5e5ddb3d1c8ea2e26f"
   }
  }
 },
 "nbformat": 4,
 "nbformat_minor": 2
}
