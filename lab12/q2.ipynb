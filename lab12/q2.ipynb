{
 "cells": [
  {
   "cell_type": "code",
   "execution_count": 10,
   "metadata": {},
   "outputs": [
    {
     "name": "stdout",
     "output_type": "stream",
     "text": [
      "[82.09492762]\n"
     ]
    }
   ],
   "source": [
    "import numpy as np\n",
    "\n",
    "x=np.array([13.5, 13, 14.5, 13, 18.5, 19.5, 16.5, 12, 18.5, 16])\n",
    "y=np.array([17.75, 8, 15.25, 14.5, 17.25, 14.5, 12.75, 15.25, 15.75, 15.75])\n",
    "f=np.array([80.6, 66.3, 54.3, 76.5, 86, 77.6, 84.1, 81.4, 81.9, 91.2])\n",
    "\n",
    "n=len(x)\n",
    "x1=sum(x)\n",
    "x2=sum(x**2)\n",
    "y1=sum(y)\n",
    "y2=np.dot(x,y)\n",
    "y3=sum(y**2)\n",
    "f1=sum(f)\n",
    "f2=np.dot(f,x)\n",
    "f3=np.dot(f,y)\n",
    "\n",
    "A=np.array([[n,x1,y1],[x1,x2,y2],[y1,y2,y3]])\n",
    "B=np.array([[f1],[f2],[f3]])\n",
    "\n",
    "xm=np.matmul(np.linalg.inv(A),B)\n",
    "a=xm[0]\n",
    "b=xm[1]\n",
    "c=xm[2]\n",
    "\n",
    "xp=17\n",
    "yp=16.75\n",
    "p=a+b*xp+c*yp\n",
    "print(p)\n"
   ]
  },
  {
   "cell_type": "code",
   "execution_count": null,
   "metadata": {},
   "outputs": [],
   "source": []
  }
 ],
 "metadata": {
  "kernelspec": {
   "display_name": "Python 3.10.6 64-bit",
   "language": "python",
   "name": "python3"
  },
  "language_info": {
   "codemirror_mode": {
    "name": "ipython",
    "version": 3
   },
   "file_extension": ".py",
   "mimetype": "text/x-python",
   "name": "python",
   "nbconvert_exporter": "python",
   "pygments_lexer": "ipython3",
   "version": "3.10.6"
  },
  "orig_nbformat": 4,
  "vscode": {
   "interpreter": {
    "hash": "19f8f9ebccd493d1979261b88c51ecd06bf2efdee26e5f5e5ddb3d1c8ea2e26f"
   }
  }
 },
 "nbformat": 4,
 "nbformat_minor": 2
}
