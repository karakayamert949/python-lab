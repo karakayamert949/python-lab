{
 "cells": [
  {
   "cell_type": "code",
   "execution_count": 1,
   "metadata": {},
   "outputs": [
    {
     "name": "stdout",
     "output_type": "stream",
     "text": [
      "[[1 1 0 0 0]\n",
      " [0 1 1 1 1]\n",
      " [0 0 0 0 1]\n",
      " [0 0 0 0 1]]\n",
      "RDRRRDD\n"
     ]
    }
   ],
   "source": [
    "import numpy as np\n",
    "from findPath import *\n",
    "\n",
    "labyrent1=np.array([[1, 1, 0, 0, 0],[0, 1, 1, 1, 1],[0, 0, 0, 0, 1],[0, 0, 0, 0, 1]])\n",
    "labyrent2=np.array([[1, 0, 0, 0, 0],[1, 0, 0, 0, 0],[1, 0, 0, 0, 0],[1, 1, 1, 1, 1]])\n",
    "\n",
    "print(labyrent1)\n",
    "print(findPath(labyrent1))"
   ]
  }
 ],
 "metadata": {
  "kernelspec": {
   "display_name": "Python 3.10.0 64-bit",
   "language": "python",
   "name": "python3"
  },
  "language_info": {
   "codemirror_mode": {
    "name": "ipython",
    "version": 3
   },
   "file_extension": ".py",
   "mimetype": "text/x-python",
   "name": "python",
   "nbconvert_exporter": "python",
   "pygments_lexer": "ipython3",
   "version": "3.10.6"
  },
  "orig_nbformat": 4,
  "vscode": {
   "interpreter": {
    "hash": "19f8f9ebccd493d1979261b88c51ecd06bf2efdee26e5f5e5ddb3d1c8ea2e26f"
   }
  }
 },
 "nbformat": 4,
 "nbformat_minor": 2
}
