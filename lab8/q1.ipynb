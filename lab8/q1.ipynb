{
 "cells": [
  {
   "cell_type": "code",
   "execution_count": null,
   "metadata": {},
   "outputs": [],
   "source": [
    "import numpy as np\n",
    "\n",
    "arr=np.array([[3,2,1],[4,3,1],[3,1,0]],dtype=float)\n",
    "x=np.array([16,21.7,12.1])\n",
    "names=[\"water\",\"tea\",\"coffee\"]\n",
    "\n",
    "detT=np.linalg.det(arr)\n",
    "price=[]\n",
    "for i in range(len(arr)):\n",
    "    temp=np.copy(arr)\n",
    "    temp[:,i]=x\n",
    "    det=np.linalg.det(temp)\n",
    "    price.append(det/detT)\n",
    "    print(f\"the {names[i]} costs {price[i]}\")"
   ]
  },
  {
   "cell_type": "code",
   "execution_count": 2,
   "metadata": {},
   "outputs": [],
   "source": [
    "import numpy as np\n",
    "\n",
    "arr=np.array([[3,2,1],[4,3,1],[3,1,0]],dtype=float)\n",
    "x=np.array([16,21.7,12.1])\n",
    "\n",
    "for i in range(len(arr)):\n",
    "    temp=np.copy(arr)\n",
    "    temp[:,i]=x"
   ]
  },
  {
   "cell_type": "code",
   "execution_count": 26,
   "metadata": {},
   "outputs": [
    {
     "name": "stdout",
     "output_type": "stream",
     "text": [
      "[[-0.01289807  0.10752688 -0.12195122  0.0273224 ]\n",
      " [ 0.07093937 -0.25806452  0.17073171  0.01639344]\n",
      " [-0.09996002 -0.83333333  1.05487805 -0.1215847 ]\n",
      " [ 0.03385742  1.46774194 -0.55487805  0.05327869]]\n",
      "a=1.54264530746841,  b=5.632117475590409,  c=-17.07783220045315,  d=12.638056067895421\n"
     ]
    }
   ],
   "source": [
    "import numpy as np\n",
    "from sympy import *\n",
    "\n",
    "p=np.array([[-2.6,68],[0.5,5.7],[1.5,4.9],[3.5,88]])\n",
    "x=np.array([p[:,0]**3,p[:,0]**2,p[:,0],p[:,0]**0])\n",
    "augmented=np.concatenate((np.transpose(x),np.eye(4)),1,dtype=float)\n",
    "augmented=Matrix(augmented)\n",
    "temp=augmented.rref()\n",
    "temp=temp[0]\n",
    "temp=np.array(temp)\n",
    "temp=temp.astype(float)\n",
    "inver=np.copy(temp[:,4:])\n",
    "print(f\"{inver}\")\n",
    "sol=inver@p[:,1]\n",
    "print(f\"a={sol[0]},  b={sol[1]},  c={sol[2]},  d={sol[3]}\")\n"
   ]
  }
 ],
 "metadata": {
  "kernelspec": {
   "display_name": "Python 3.10.5 64-bit",
   "language": "python",
   "name": "python3"
  },
  "language_info": {
   "codemirror_mode": {
    "name": "ipython",
    "version": 3
   },
   "file_extension": ".py",
   "mimetype": "text/x-python",
   "name": "python",
   "nbconvert_exporter": "python",
   "pygments_lexer": "ipython3",
   "version": "3.10.6"
  },
  "orig_nbformat": 4,
  "vscode": {
   "interpreter": {
    "hash": "19f8f9ebccd493d1979261b88c51ecd06bf2efdee26e5f5e5ddb3d1c8ea2e26f"
   }
  }
 },
 "nbformat": 4,
 "nbformat_minor": 2
}
