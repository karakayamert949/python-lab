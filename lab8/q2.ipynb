{
 "cells": [
  {
   "cell_type": "code",
   "execution_count": 1,
   "metadata": {},
   "outputs": [
    {
     "name": "stdout",
     "output_type": "stream",
     "text": [
      "infinitely solution\n",
      "there is no solution\n"
     ]
    }
   ],
   "source": [
    "import numpy as np\n",
    "from LinSysSolType import *\n",
    "\n",
    "A=np.array([[1, 2, 4], [2, 3, 5], [2, 4, 8]])\n",
    "b1=np.array([[2,3,4]])\n",
    "b2=np.array([[2,3,5]])\n",
    "\n",
    "LinSysSolType(A,b1.transpose())\n",
    "LinSysSolType(A,b2.transpose())"
   ]
  }
 ],
 "metadata": {
  "kernelspec": {
   "display_name": "Python 3.10.5 64-bit",
   "language": "python",
   "name": "python3"
  },
  "language_info": {
   "codemirror_mode": {
    "name": "ipython",
    "version": 3
   },
   "file_extension": ".py",
   "mimetype": "text/x-python",
   "name": "python",
   "nbconvert_exporter": "python",
   "pygments_lexer": "ipython3",
   "version": "3.10.5"
  },
  "orig_nbformat": 4,
  "vscode": {
   "interpreter": {
    "hash": "19f8f9ebccd493d1979261b88c51ecd06bf2efdee26e5f5e5ddb3d1c8ea2e26f"
   }
  }
 },
 "nbformat": 4,
 "nbformat_minor": 2
}
